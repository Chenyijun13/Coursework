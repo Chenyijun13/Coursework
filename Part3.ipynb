{
 "cells": [
  {
   "cell_type": "code",
   "execution_count": 67,
   "metadata": {
    "id": "2nsf2qa0JiJJ"
   },
   "outputs": [],
   "source": [
    "import requests\n",
    "import pandas as pd\n",
    "from bs4 import BeautifulSoup\n",
    "import matplotlib.pyplot as plt\n",
    "%matplotlib inline"
   ]
  },
  {
   "cell_type": "markdown",
   "metadata": {
    "id": "V9zc5Y2vR9pp"
   },
   "source": [
    "### Scrape data from imdb"
   ]
  },
  {
   "cell_type": "code",
   "execution_count": 58,
   "metadata": {
    "colab": {
     "base_uri": "https://localhost:8080/"
    },
    "id": "HQZNY2-sJtpq",
    "outputId": "e5658355-456c-461c-c36f-0c697ce46913"
   },
   "outputs": [
    {
     "name": "stdout",
     "output_type": "stream",
     "text": [
      "1\n",
      "51\n",
      "101\n",
      "151\n"
     ]
    }
   ],
   "source": [
    "titles = [] # store the movie titles\n",
    "years = []  # release year\n",
    "ratings = []  # rating of movie\n",
    "metascores = []  # meta score\n",
    "certificates = []\n",
    "votings = []\n",
    "for i in range(1, 200, 50):\n",
    "  #loop for each page\n",
    "  res = requests.get(\"https://www.imdb.com/search/title/?genres=drama&groups=top_250&sort=user_rating,desc&start={}&ref_=adv_nxt\".format(i))\n",
    "  content = res.content\n",
    "  soup = BeautifulSoup(content)\n",
    "  div = soup.find(\"div\", {\"class\":\"lister-list\"}) # find movie list\n",
    "  print(i)\n",
    "  divs = div.find_all(\"div\", {\"class\":\"lister-item mode-advanced\"})\n",
    "  for div in divs:\n",
    "    title = div.find(\"h3\").find(\"a\").string # extract the title\n",
    "    titles.append(title)\n",
    "    year = div.find(\"h3\").find(\"span\", {\"class\":\"lister-item-year\"}).string  # extract the release year\n",
    "    year = year.replace(\"(\", \"\")  # remove bracket\n",
    "    year = year.replace(\")\", \"\")\n",
    "    years.append(year)\n",
    "    rating = div.find(\"div\", {\"class\":\"ratings-bar\"}).find(\"strong\").string # extract movie rating\n",
    "    ratings.append(float(rating))\n",
    "    span = div.find(\"span\", {\"class\": \"metascore\"})\n",
    "    # no metascore find\n",
    "    if span is None:\n",
    "      metascores.append(None)\n",
    "    else:\n",
    "      metascores.append(float(span.string))\n",
    "    certificate = div.find(\"span\", {\"class\":\"certificate\"})\n",
    "    # no certificate find\n",
    "    if certificate is None:\n",
    "      certificate =  None\n",
    "    else:\n",
    "      certificate = certificate.string\n",
    "    certificates.append(certificate)\n",
    "    p = div.find(\"p\", {\"class\":\"sort-num_votes-visible\"})\n",
    "    nv = p.find(\"span\", {\"name\":\"nv\"}).string # extract the voting\n",
    "    nv = nv.replace(\",\", \"\")\n",
    "    nv = int(nv)\n",
    "    votings.append(nv)"
   ]
  },
  {
   "cell_type": "markdown",
   "metadata": {
    "id": "ooaTfCPcT06v"
   },
   "source": [
    "### Data Cleaning"
   ]
  },
  {
   "cell_type": "markdown",
   "metadata": {
    "id": "Xs2NI6_0SZE0"
   },
   "source": [
    "Create data frame."
   ]
  },
  {
   "cell_type": "code",
   "execution_count": 59,
   "metadata": {
    "id": "IVUR2n9WKGV_"
   },
   "outputs": [],
   "source": [
    "movies  = pd.DataFrame({\n",
    "    \"title\": titles,\n",
    "    \"year\": years,\n",
    "    \"metascore\":metascores,\n",
    "    \"rating\": ratings,\n",
    "    \"certificate\": certificates,\n",
    "    \"voting\": votings\n",
    "})"
   ]
  },
  {
   "cell_type": "code",
   "execution_count": 60,
   "metadata": {
    "colab": {
     "base_uri": "https://localhost:8080/",
     "height": 195
    },
    "id": "Fv-3N_YbQv3-",
    "outputId": "9af61a21-fa61-4da1-aaa8-fcf2b897e70e"
   },
   "outputs": [
    {
     "data": {
      "text/html": [
       "<div>\n",
       "<style scoped>\n",
       "    .dataframe tbody tr th:only-of-type {\n",
       "        vertical-align: middle;\n",
       "    }\n",
       "\n",
       "    .dataframe tbody tr th {\n",
       "        vertical-align: top;\n",
       "    }\n",
       "\n",
       "    .dataframe thead th {\n",
       "        text-align: right;\n",
       "    }\n",
       "</style>\n",
       "<table border=\"1\" class=\"dataframe\">\n",
       "  <thead>\n",
       "    <tr style=\"text-align: right;\">\n",
       "      <th></th>\n",
       "      <th>title</th>\n",
       "      <th>year</th>\n",
       "      <th>metascore</th>\n",
       "      <th>rating</th>\n",
       "      <th>certificate</th>\n",
       "      <th>voting</th>\n",
       "    </tr>\n",
       "  </thead>\n",
       "  <tbody>\n",
       "    <tr>\n",
       "      <th>0</th>\n",
       "      <td>The Shawshank Redemption</td>\n",
       "      <td>1994</td>\n",
       "      <td>80.0</td>\n",
       "      <td>9.3</td>\n",
       "      <td>R</td>\n",
       "      <td>2321147</td>\n",
       "    </tr>\n",
       "    <tr>\n",
       "      <th>1</th>\n",
       "      <td>The Godfather</td>\n",
       "      <td>1972</td>\n",
       "      <td>100.0</td>\n",
       "      <td>9.2</td>\n",
       "      <td>R</td>\n",
       "      <td>1603119</td>\n",
       "    </tr>\n",
       "    <tr>\n",
       "      <th>2</th>\n",
       "      <td>The Dark Knight</td>\n",
       "      <td>2008</td>\n",
       "      <td>84.0</td>\n",
       "      <td>9.0</td>\n",
       "      <td>PG-13</td>\n",
       "      <td>2283167</td>\n",
       "    </tr>\n",
       "    <tr>\n",
       "      <th>3</th>\n",
       "      <td>The Godfather: Part II</td>\n",
       "      <td>1974</td>\n",
       "      <td>90.0</td>\n",
       "      <td>9.0</td>\n",
       "      <td>R</td>\n",
       "      <td>1119579</td>\n",
       "    </tr>\n",
       "    <tr>\n",
       "      <th>4</th>\n",
       "      <td>12 Angry Men</td>\n",
       "      <td>1957</td>\n",
       "      <td>96.0</td>\n",
       "      <td>9.0</td>\n",
       "      <td>Approved</td>\n",
       "      <td>683089</td>\n",
       "    </tr>\n",
       "  </tbody>\n",
       "</table>\n",
       "</div>"
      ],
      "text/plain": [
       "                      title  year  metascore  rating certificate   voting\n",
       "0  The Shawshank Redemption  1994       80.0     9.3           R  2321147\n",
       "1             The Godfather  1972      100.0     9.2           R  1603119\n",
       "2           The Dark Knight  2008       84.0     9.0       PG-13  2283167\n",
       "3    The Godfather: Part II  1974       90.0     9.0           R  1119579\n",
       "4              12 Angry Men  1957       96.0     9.0    Approved   683089"
      ]
     },
     "execution_count": 60,
     "metadata": {
      "tags": []
     },
     "output_type": "execute_result"
    }
   ],
   "source": [
    "movies.head()"
   ]
  },
  {
   "cell_type": "code",
   "execution_count": 25,
   "metadata": {},
   "outputs": [],
   "source": [
    "movies.to_csv(\"data.csv\")"
   ]
  },
  {
   "cell_type": "code",
   "execution_count": 32,
   "metadata": {},
   "outputs": [],
   "source": [
    "movies = pd.read_csv(\"data.csv\", index_col=0)"
   ]
  },
  {
   "cell_type": "code",
   "execution_count": 33,
   "metadata": {
    "colab": {
     "base_uri": "https://localhost:8080/"
    },
    "id": "j2_yibj2QySM",
    "outputId": "623f9922-5b50-490c-ae43-60529ef9ee25"
   },
   "outputs": [
    {
     "data": {
      "text/plain": [
       "(186, 6)"
      ]
     },
     "execution_count": 33,
     "metadata": {},
     "output_type": "execute_result"
    }
   ],
   "source": [
    "movies.shape"
   ]
  },
  {
   "cell_type": "markdown",
   "metadata": {
    "id": "qAh1_U36UDse"
   },
   "source": [
    "There are 187 observations and 6 variables."
   ]
  },
  {
   "cell_type": "code",
   "execution_count": 34,
   "metadata": {
    "colab": {
     "base_uri": "https://localhost:8080/",
     "height": 284
    },
    "id": "t0sRnOlnUEQL",
    "outputId": "d3765f75-8486-4de4-c38e-3a1b179e029d"
   },
   "outputs": [
    {
     "data": {
      "text/html": [
       "<div>\n",
       "<style scoped>\n",
       "    .dataframe tbody tr th:only-of-type {\n",
       "        vertical-align: middle;\n",
       "    }\n",
       "\n",
       "    .dataframe tbody tr th {\n",
       "        vertical-align: top;\n",
       "    }\n",
       "\n",
       "    .dataframe thead th {\n",
       "        text-align: right;\n",
       "    }\n",
       "</style>\n",
       "<table border=\"1\" class=\"dataframe\">\n",
       "  <thead>\n",
       "    <tr style=\"text-align: right;\">\n",
       "      <th></th>\n",
       "      <th>year</th>\n",
       "      <th>metascore</th>\n",
       "      <th>rating</th>\n",
       "      <th>voting</th>\n",
       "    </tr>\n",
       "  </thead>\n",
       "  <tbody>\n",
       "    <tr>\n",
       "      <th>count</th>\n",
       "      <td>186.00000</td>\n",
       "      <td>154.000000</td>\n",
       "      <td>186.000000</td>\n",
       "      <td>1.860000e+02</td>\n",
       "    </tr>\n",
       "    <tr>\n",
       "      <th>mean</th>\n",
       "      <td>1987.72043</td>\n",
       "      <td>82.844156</td>\n",
       "      <td>8.307527</td>\n",
       "      <td>4.940869e+05</td>\n",
       "    </tr>\n",
       "    <tr>\n",
       "      <th>std</th>\n",
       "      <td>25.23848</td>\n",
       "      <td>10.672259</td>\n",
       "      <td>0.235836</td>\n",
       "      <td>4.710229e+05</td>\n",
       "    </tr>\n",
       "    <tr>\n",
       "      <th>min</th>\n",
       "      <td>1921.00000</td>\n",
       "      <td>57.000000</td>\n",
       "      <td>8.000000</td>\n",
       "      <td>2.546400e+04</td>\n",
       "    </tr>\n",
       "    <tr>\n",
       "      <th>25%</th>\n",
       "      <td>1971.00000</td>\n",
       "      <td>76.000000</td>\n",
       "      <td>8.100000</td>\n",
       "      <td>1.413720e+05</td>\n",
       "    </tr>\n",
       "    <tr>\n",
       "      <th>50%</th>\n",
       "      <td>1995.00000</td>\n",
       "      <td>85.000000</td>\n",
       "      <td>8.200000</td>\n",
       "      <td>3.243555e+05</td>\n",
       "    </tr>\n",
       "    <tr>\n",
       "      <th>75%</th>\n",
       "      <td>2008.00000</td>\n",
       "      <td>90.750000</td>\n",
       "      <td>8.400000</td>\n",
       "      <td>7.315742e+05</td>\n",
       "    </tr>\n",
       "    <tr>\n",
       "      <th>max</th>\n",
       "      <td>2020.00000</td>\n",
       "      <td>100.000000</td>\n",
       "      <td>9.300000</td>\n",
       "      <td>2.321536e+06</td>\n",
       "    </tr>\n",
       "  </tbody>\n",
       "</table>\n",
       "</div>"
      ],
      "text/plain": [
       "             year   metascore      rating        voting\n",
       "count   186.00000  154.000000  186.000000  1.860000e+02\n",
       "mean   1987.72043   82.844156    8.307527  4.940869e+05\n",
       "std      25.23848   10.672259    0.235836  4.710229e+05\n",
       "min    1921.00000   57.000000    8.000000  2.546400e+04\n",
       "25%    1971.00000   76.000000    8.100000  1.413720e+05\n",
       "50%    1995.00000   85.000000    8.200000  3.243555e+05\n",
       "75%    2008.00000   90.750000    8.400000  7.315742e+05\n",
       "max    2020.00000  100.000000    9.300000  2.321536e+06"
      ]
     },
     "execution_count": 34,
     "metadata": {},
     "output_type": "execute_result"
    }
   ],
   "source": [
    "movies.describe()"
   ]
  },
  {
   "cell_type": "markdown",
   "metadata": {},
   "source": [
    "The average rating is 8.3, the maximum rating is 9.3, the minimum rating is 8, maximum voting is 2321536, the minimum voting is 2.546400. The mean voting is 4940869."
   ]
  },
  {
   "cell_type": "markdown",
   "metadata": {
    "id": "PqY8FYt2UXtp"
   },
   "source": [
    "### Data Analysis"
   ]
  },
  {
   "cell_type": "markdown",
   "metadata": {
    "id": "093-zOm1VEm3"
   },
   "source": [
    "**1. Which movies has the highest voting? What are the top 10 movies with the highest votings**"
   ]
  },
  {
   "cell_type": "code",
   "execution_count": 35,
   "metadata": {
    "colab": {
     "base_uri": "https://localhost:8080/",
     "height": 343
    },
    "id": "oSqmf45pUIxZ",
    "outputId": "7b96a7d1-2152-4f94-f9db-5a7bd6da1599"
   },
   "outputs": [
    {
     "data": {
      "text/html": [
       "<div>\n",
       "<style scoped>\n",
       "    .dataframe tbody tr th:only-of-type {\n",
       "        vertical-align: middle;\n",
       "    }\n",
       "\n",
       "    .dataframe tbody tr th {\n",
       "        vertical-align: top;\n",
       "    }\n",
       "\n",
       "    .dataframe thead th {\n",
       "        text-align: right;\n",
       "    }\n",
       "</style>\n",
       "<table border=\"1\" class=\"dataframe\">\n",
       "  <thead>\n",
       "    <tr style=\"text-align: right;\">\n",
       "      <th></th>\n",
       "      <th>title</th>\n",
       "      <th>year</th>\n",
       "      <th>metascore</th>\n",
       "      <th>rating</th>\n",
       "      <th>certificate</th>\n",
       "      <th>voting</th>\n",
       "    </tr>\n",
       "  </thead>\n",
       "  <tbody>\n",
       "    <tr>\n",
       "      <th>0</th>\n",
       "      <td>The Shawshank Redemption</td>\n",
       "      <td>1994</td>\n",
       "      <td>80.0</td>\n",
       "      <td>9.3</td>\n",
       "      <td>12</td>\n",
       "      <td>2321536</td>\n",
       "    </tr>\n",
       "    <tr>\n",
       "      <th>2</th>\n",
       "      <td>The Dark Knight</td>\n",
       "      <td>2008</td>\n",
       "      <td>84.0</td>\n",
       "      <td>9.0</td>\n",
       "      <td>16</td>\n",
       "      <td>2283530</td>\n",
       "    </tr>\n",
       "    <tr>\n",
       "      <th>8</th>\n",
       "      <td>Fight Club</td>\n",
       "      <td>1999</td>\n",
       "      <td>66.0</td>\n",
       "      <td>8.8</td>\n",
       "      <td>16</td>\n",
       "      <td>1838890</td>\n",
       "    </tr>\n",
       "    <tr>\n",
       "      <th>6</th>\n",
       "      <td>Pulp Fiction</td>\n",
       "      <td>1994</td>\n",
       "      <td>94.0</td>\n",
       "      <td>8.9</td>\n",
       "      <td>16</td>\n",
       "      <td>1810946</td>\n",
       "    </tr>\n",
       "    <tr>\n",
       "      <th>10</th>\n",
       "      <td>Forrest Gump</td>\n",
       "      <td>1994</td>\n",
       "      <td>82.0</td>\n",
       "      <td>8.8</td>\n",
       "      <td>12</td>\n",
       "      <td>1790588</td>\n",
       "    </tr>\n",
       "    <tr>\n",
       "      <th>9</th>\n",
       "      <td>The Lord of the Rings: The Fellowship of the Ring</td>\n",
       "      <td>2001</td>\n",
       "      <td>92.0</td>\n",
       "      <td>8.8</td>\n",
       "      <td>12</td>\n",
       "      <td>1645982</td>\n",
       "    </tr>\n",
       "    <tr>\n",
       "      <th>5</th>\n",
       "      <td>The Lord of the Rings: The Return of the King</td>\n",
       "      <td>2003</td>\n",
       "      <td>94.0</td>\n",
       "      <td>8.9</td>\n",
       "      <td>12</td>\n",
       "      <td>1629495</td>\n",
       "    </tr>\n",
       "    <tr>\n",
       "      <th>1</th>\n",
       "      <td>The Godfather</td>\n",
       "      <td>1972</td>\n",
       "      <td>100.0</td>\n",
       "      <td>9.2</td>\n",
       "      <td>16</td>\n",
       "      <td>1603427</td>\n",
       "    </tr>\n",
       "    <tr>\n",
       "      <th>16</th>\n",
       "      <td>Interstellar</td>\n",
       "      <td>2014</td>\n",
       "      <td>74.0</td>\n",
       "      <td>8.6</td>\n",
       "      <td>12</td>\n",
       "      <td>1491842</td>\n",
       "    </tr>\n",
       "    <tr>\n",
       "      <th>11</th>\n",
       "      <td>The Lord of the Rings: The Two Towers</td>\n",
       "      <td>2002</td>\n",
       "      <td>87.0</td>\n",
       "      <td>8.7</td>\n",
       "      <td>12</td>\n",
       "      <td>1473124</td>\n",
       "    </tr>\n",
       "  </tbody>\n",
       "</table>\n",
       "</div>"
      ],
      "text/plain": [
       "                                                title  year  metascore  \\\n",
       "0                            The Shawshank Redemption  1994       80.0   \n",
       "2                                     The Dark Knight  2008       84.0   \n",
       "8                                          Fight Club  1999       66.0   \n",
       "6                                        Pulp Fiction  1994       94.0   \n",
       "10                                       Forrest Gump  1994       82.0   \n",
       "9   The Lord of the Rings: The Fellowship of the Ring  2001       92.0   \n",
       "5       The Lord of the Rings: The Return of the King  2003       94.0   \n",
       "1                                       The Godfather  1972      100.0   \n",
       "16                                       Interstellar  2014       74.0   \n",
       "11              The Lord of the Rings: The Two Towers  2002       87.0   \n",
       "\n",
       "    rating certificate   voting  \n",
       "0      9.3          12  2321536  \n",
       "2      9.0          16  2283530  \n",
       "8      8.8          16  1838890  \n",
       "6      8.9          16  1810946  \n",
       "10     8.8          12  1790588  \n",
       "9      8.8          12  1645982  \n",
       "5      8.9          12  1629495  \n",
       "1      9.2          16  1603427  \n",
       "16     8.6          12  1491842  \n",
       "11     8.7          12  1473124  "
      ]
     },
     "execution_count": 35,
     "metadata": {},
     "output_type": "execute_result"
    }
   ],
   "source": [
    "movies.sort_values(\"voting\", ascending=False).head(10)"
   ]
  },
  {
   "cell_type": "markdown",
   "metadata": {},
   "source": [
    "As we can see from the result, The Shawshank Redemption has the highest voting."
   ]
  },
  {
   "cell_type": "markdown",
   "metadata": {
    "id": "_GUkBXfVV00H"
   },
   "source": [
    "**2.What is the number of moveis by each certificate? which cerfificate has the largest number of movies?**"
   ]
  },
  {
   "cell_type": "code",
   "execution_count": 30,
   "metadata": {
    "colab": {
     "base_uri": "https://localhost:8080/",
     "height": 336
    },
    "id": "7FL3ImbEUOp6",
    "outputId": "2cdb4acf-668e-410f-c39e-4aa59e5cb184"
   },
   "outputs": [
    {
     "data": {
      "text/plain": [
       "Text(0, 0.5, 'Count')"
      ]
     },
     "execution_count": 30,
     "metadata": {},
     "output_type": "execute_result"
    },
    {
     "data": {
      "image/png": "[encoded data removed]",
      "text/plain": [
       "<Figure size 432x288 with 1 Axes>"
      ]
     },
     "metadata": {
      "needs_background": "light"
     },
     "output_type": "display_data"
    }
   ],
   "source": [
    "movies.groupby(\"certificate\").count()[\"title\"].plot(kind=\"bar\")\n",
    "plt.ylabel(\"Count\")"
   ]
  },
  {
   "cell_type": "markdown",
   "metadata": {},
   "source": [
    "The R has the largest number of movies."
   ]
  },
  {
   "cell_type": "markdown",
   "metadata": {
    "id": "7tN4RYkrWVTQ"
   },
   "source": [
    "**3.What is the relationship between the rating and voting number? Are they positive associated**"
   ]
  },
  {
   "cell_type": "code",
   "execution_count": 36,
   "metadata": {
    "colab": {
     "base_uri": "https://localhost:8080/",
     "height": 296
    },
    "id": "9cRHquPWVfuc",
    "outputId": "fabe32d7-cc96-4931-fb35-0ce904c45474"
   },
   "outputs": [
    {
     "data": {
      "text/plain": [
       "Text(0, 0.5, 'Rating')"
      ]
     },
     "execution_count": 36,
     "metadata": {},
     "output_type": "execute_result"
    },
    {
     "data": {
      "image/png": "[encoded data removed]",
      "text/plain": [
       "<Figure size 432x288 with 1 Axes>"
      ]
     },
     "metadata": {
      "needs_background": "light"
     },
     "output_type": "display_data"
    }
   ],
   "source": [
    "plt.scatter(movies[\"voting\"], movies[\"rating\"])\n",
    "plt.xlabel(\"Voting\")\n",
    "plt.ylabel(\"Rating\")"
   ]
  },
  {
   "cell_type": "markdown",
   "metadata": {},
   "source": [
    "We can see a positive linear association between the voting and rating."
   ]
  },
  {
   "cell_type": "markdown",
   "metadata": {},
   "source": [
    "**4.Which year produces the largest number of movies?**"
   ]
  },
  {
   "cell_type": "code",
   "execution_count": 45,
   "metadata": {},
   "outputs": [
    {
     "data": {
      "text/plain": [
       "<AxesSubplot:xlabel='year'>"
      ]
     },
     "execution_count": 45,
     "metadata": {},
     "output_type": "execute_result"
    },
    {
     "data": {
      "image/png": "[encoded data removed]",
      "text/plain": [
       "<Figure size 1152x576 with 1 Axes>"
      ]
     },
     "metadata": {
      "needs_background": "light"
     },
     "output_type": "display_data"
    }
   ],
   "source": [
    "movies.groupby(\"year\").count()[\"title\"].plot(kind=\"bar\", figsize=(16,8))"
   ]
  },
  {
   "cell_type": "markdown",
   "metadata": {},
   "source": [
    "As we can see from the plot, in year 1957, 1995, 2019, they have the largest number of movies."
   ]
  },
  {
   "cell_type": "markdown",
   "metadata": {},
   "source": [
    "**5.What's the average rating of the  movies for each certificate? Is there any difference for difference certificate?**"
   ]
  },
  {
   "cell_type": "code",
   "execution_count": 51,
   "metadata": {},
   "outputs": [
    {
     "data": {
      "text/plain": [
       "<AxesSubplot:xlabel='certificate'>"
      ]
     },
     "execution_count": 51,
     "metadata": {},
     "output_type": "execute_result"
    },
    {
     "data": {
      "image/png": "[encoded data removed]",
      "text/plain": [
       "<Figure size 432x288 with 1 Axes>"
      ]
     },
     "metadata": {
      "needs_background": "light"
     },
     "output_type": "display_data"
    }
   ],
   "source": [
    "movies.groupby(\"certificate\").mean()[\"rating\"].plot(kind=\"bar\")"
   ]
  },
  {
   "cell_type": "markdown",
   "metadata": {},
   "source": [
    "The average rating of the movies are quite similar for different certificate."
   ]
  },
  {
   "cell_type": "markdown",
   "metadata": {
    "id": "vwa46kVWWnC6"
   },
   "source": [
    "### Conclusion"
   ]
  },
  {
   "cell_type": "markdown",
   "metadata": {
    "id": "29S_WkFgXIBk"
   },
   "source": [
    "Based on the computation and visualiztion, we can find that The Shawshank Redemption has the largest number of votings, and the certificate R has the largest number of movies, the rating is positive linear associated with the voting number."
   ]
  },
  {
   "cell_type": "code",
   "execution_count": 80,
   "metadata": {
    "id": "qQCqwtVLWksq"
   },
   "outputs": [],
   "source": []
  }
 ],
 "metadata": {
  "colab": {
   "collapsed_sections": [],
   "name": "Part3.ipynb",
   "provenance": []
  },
  "kernelspec": {
   "display_name": "Python 3",
   "language": "python",
   "name": "python3"
  },
  "language_info": {
   "codemirror_mode": {
    "name": "ipython",
    "version": 3
   },
   "file_extension": ".py",
   "mimetype": "text/x-python",
   "name": "python",
   "nbconvert_exporter": "python",
   "pygments_lexer": "ipython3",
   "version": "3.9.0"
  }
 },
 "nbformat": 4,
 "nbformat_minor": 1
}
